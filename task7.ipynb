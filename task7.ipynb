{
 "cells": [
  {
   "cell_type": "markdown",
   "metadata": {},
   "source": [
    "## 熵\n",
    "熵定义如下：\n",
    "$$\n",
    "H(X)=-\\sum_{x \\in X}^{n} p(x) \\log p(x)\n",
    "$$\n",
    "\n",
    "\n",
    "熵只依赖于X的分布，而与X的取值无关，所以也可将X的熵记作H(p)，即\n",
    "$$\n",
    "H(p)=-\\sum_{i=1}^{n} p_{i} l o g p_{i}\n",
    "$$\n"
   ]
  },
  {
   "cell_type": "markdown",
   "metadata": {},
   "source": [
    "## 西瓜数据集熵的计算"
   ]
  },
  {
   "cell_type": "code",
   "execution_count": 1,
   "metadata": {},
   "outputs": [
    {
     "data": {
      "text/html": [
       "<div>\n",
       "<style>\n",
       "    .dataframe thead tr:only-child th {\n",
       "        text-align: right;\n",
       "    }\n",
       "\n",
       "    .dataframe thead th {\n",
       "        text-align: left;\n",
       "    }\n",
       "\n",
       "    .dataframe tbody tr th {\n",
       "        vertical-align: top;\n",
       "    }\n",
       "</style>\n",
       "<table border=\"1\" class=\"dataframe\">\n",
       "  <thead>\n",
       "    <tr style=\"text-align: right;\">\n",
       "      <th></th>\n",
       "      <th>Idx</th>\n",
       "      <th>color</th>\n",
       "      <th>root</th>\n",
       "      <th>knocks</th>\n",
       "      <th>texture</th>\n",
       "      <th>navel</th>\n",
       "      <th>touch</th>\n",
       "      <th>density</th>\n",
       "      <th>sugar_ratio</th>\n",
       "      <th>label</th>\n",
       "    </tr>\n",
       "  </thead>\n",
       "  <tbody>\n",
       "    <tr>\n",
       "      <th>0</th>\n",
       "      <td>1</td>\n",
       "      <td>dark_green</td>\n",
       "      <td>curl_up</td>\n",
       "      <td>little_heavily</td>\n",
       "      <td>distinct</td>\n",
       "      <td>sinking</td>\n",
       "      <td>hard_smooth</td>\n",
       "      <td>0.697</td>\n",
       "      <td>0.460</td>\n",
       "      <td>1</td>\n",
       "    </tr>\n",
       "    <tr>\n",
       "      <th>1</th>\n",
       "      <td>2</td>\n",
       "      <td>black</td>\n",
       "      <td>curl_up</td>\n",
       "      <td>heavily</td>\n",
       "      <td>distinct</td>\n",
       "      <td>sinking</td>\n",
       "      <td>hard_smooth</td>\n",
       "      <td>0.774</td>\n",
       "      <td>0.376</td>\n",
       "      <td>1</td>\n",
       "    </tr>\n",
       "    <tr>\n",
       "      <th>2</th>\n",
       "      <td>3</td>\n",
       "      <td>black</td>\n",
       "      <td>curl_up</td>\n",
       "      <td>little_heavily</td>\n",
       "      <td>distinct</td>\n",
       "      <td>sinking</td>\n",
       "      <td>hard_smooth</td>\n",
       "      <td>0.634</td>\n",
       "      <td>0.264</td>\n",
       "      <td>1</td>\n",
       "    </tr>\n",
       "    <tr>\n",
       "      <th>3</th>\n",
       "      <td>4</td>\n",
       "      <td>dark_green</td>\n",
       "      <td>curl_up</td>\n",
       "      <td>heavily</td>\n",
       "      <td>distinct</td>\n",
       "      <td>sinking</td>\n",
       "      <td>hard_smooth</td>\n",
       "      <td>0.608</td>\n",
       "      <td>0.318</td>\n",
       "      <td>1</td>\n",
       "    </tr>\n",
       "    <tr>\n",
       "      <th>4</th>\n",
       "      <td>5</td>\n",
       "      <td>light_white</td>\n",
       "      <td>curl_up</td>\n",
       "      <td>little_heavily</td>\n",
       "      <td>distinct</td>\n",
       "      <td>sinking</td>\n",
       "      <td>hard_smooth</td>\n",
       "      <td>0.556</td>\n",
       "      <td>0.215</td>\n",
       "      <td>1</td>\n",
       "    </tr>\n",
       "  </tbody>\n",
       "</table>\n",
       "</div>"
      ],
      "text/plain": [
       "   Idx        color     root          knocks   texture    navel        touch  \\\n",
       "0    1   dark_green  curl_up  little_heavily  distinct  sinking  hard_smooth   \n",
       "1    2        black  curl_up         heavily  distinct  sinking  hard_smooth   \n",
       "2    3        black  curl_up  little_heavily  distinct  sinking  hard_smooth   \n",
       "3    4   dark_green  curl_up         heavily  distinct  sinking  hard_smooth   \n",
       "4    5  light_white  curl_up  little_heavily  distinct  sinking  hard_smooth   \n",
       "\n",
       "   density  sugar_ratio  label  \n",
       "0    0.697        0.460      1  \n",
       "1    0.774        0.376      1  \n",
       "2    0.634        0.264      1  \n",
       "3    0.608        0.318      1  \n",
       "4    0.556        0.215      1  "
      ]
     },
     "execution_count": 1,
     "metadata": {},
     "output_type": "execute_result"
    }
   ],
   "source": [
    "import pandas as pd\n",
    "data = pd.read_csv('watermelon_3a.csv')\n",
    "data.head()"
   ]
  },
  {
   "cell_type": "code",
   "execution_count": 4,
   "metadata": {},
   "outputs": [],
   "source": [
    "from collections import Counter\n",
    "count = Counter(data.label)"
   ]
  },
  {
   "cell_type": "code",
   "execution_count": 6,
   "metadata": {},
   "outputs": [],
   "source": [
    "count = dict(count)"
   ]
  },
  {
   "cell_type": "code",
   "execution_count": 10,
   "metadata": {},
   "outputs": [
    {
     "name": "stdout",
     "output_type": "stream",
     "text": [
      "(1, 8)\n",
      "(0, 9)\n"
     ]
    }
   ],
   "source": [
    "for x in count.items():\n",
    "    print(x)"
   ]
  },
  {
   "cell_type": "code",
   "execution_count": 12,
   "metadata": {},
   "outputs": [
    {
     "data": {
      "text/plain": [
       "[(0, 9), (1, 8)]"
      ]
     },
     "execution_count": 12,
     "metadata": {},
     "output_type": "execute_result"
    }
   ],
   "source": [
    "sorted(count.items(), key=lambda x: -x[1])"
   ]
  },
  {
   "cell_type": "code",
   "execution_count": 13,
   "metadata": {
    "collapsed": true
   },
   "outputs": [],
   "source": [
    "total = len(data)"
   ]
  },
  {
   "cell_type": "code",
   "execution_count": 14,
   "metadata": {},
   "outputs": [
    {
     "data": {
      "text/plain": [
       "17"
      ]
     },
     "execution_count": 14,
     "metadata": {},
     "output_type": "execute_result"
    }
   ],
   "source": [
    "total"
   ]
  },
  {
   "cell_type": "code",
   "execution_count": 15,
   "metadata": {
    "collapsed": true
   },
   "outputs": [],
   "source": [
    "import numpy as np\n",
    "\n",
    "entry = 0\n",
    "for x in count.items():\n",
    "    p = x[1] / total\n",
    "    entry -= (p * np.log(p))"
   ]
  },
  {
   "cell_type": "code",
   "execution_count": 16,
   "metadata": {},
   "outputs": [
    {
     "data": {
      "text/plain": [
       "0.6914160776171183"
      ]
     },
     "execution_count": 16,
     "metadata": {},
     "output_type": "execute_result"
    }
   ],
   "source": [
    "entry"
   ]
  },
  {
   "cell_type": "code",
   "execution_count": null,
   "metadata": {
    "collapsed": true
   },
   "outputs": [],
   "source": []
  }
 ],
 "metadata": {
  "kernelspec": {
   "display_name": "Python 3",
   "language": "python",
   "name": "python3"
  },
  "language_info": {
   "codemirror_mode": {
    "name": "ipython",
    "version": 3
   },
   "file_extension": ".py",
   "mimetype": "text/x-python",
   "name": "python",
   "nbconvert_exporter": "python",
   "pygments_lexer": "ipython3",
   "version": "3.6.3"
  },
  "toc": {
   "base_numbering": 1,
   "nav_menu": {},
   "number_sections": true,
   "sideBar": true,
   "skip_h1_title": false,
   "title_cell": "Table of Contents",
   "title_sidebar": "Contents",
   "toc_cell": false,
   "toc_position": {},
   "toc_section_display": true,
   "toc_window_display": false
  }
 },
 "nbformat": 4,
 "nbformat_minor": 2
}
